{
 "cells": [
  {
   "cell_type": "markdown",
   "metadata": {},
   "source": [
    "# Data Preprocessing for Credit Score Dataset\n",
    "\n",
    "This notebook demonstrates the preprocessing steps for a credit score dataset. \n",
    "The steps include cleaning categorical and numerical fields, handling missing values, encoding categorical variables, and normalizing the data."
   ]
  },
  {
   "cell_type": "markdown",
   "metadata": {},
   "source": [
    "Import necessary libraries and append system path for module access"
   ]
  },
  {
   "cell_type": "code",
   "execution_count": null,
   "metadata": {},
   "outputs": [],
   "source": [
    "import pandas as pd\n",
    "import numpy as np\n",
    "from sklearn.preprocessing import MinMaxScaler, LabelEncoder\n",
    "from sklearn.model_selection import train_test_split\n",
    "import pkg_resources\n",
    "from typing import Tuple\n",
    "import scipy.stats as stats"
   ]
  },
  {
   "cell_type": "markdown",
   "metadata": {},
   "source": [
    "Functions used"
   ]
  },
  {
   "cell_type": "code",
   "execution_count": 3,
   "metadata": {},
   "outputs": [],
   "source": [
    "# Function to fill missing values with the mode of each group\n",
    "def fill_missing_with_group_mode(df, groupby, column):\n",
    "    mode_per_group = df.groupby(groupby)[column].transform(lambda x: x.mode().iat[0])\n",
    "    df[column] = df[column].fillna(mode_per_group)\n",
    "\n",
    "# Function to clean categorical fields\n",
    "def clean_categorical_field(df, groupby, column, replace_value=None):\n",
    "    if replace_value is not None:\n",
    "        df[column] = df[column].replace(replace_value, np.nan)\n",
    "    fill_missing_with_group_mode(df, groupby, column)\n",
    "\n",
    "# Function to handle outliers and null values\n",
    "def fix_inconsistent_values(df, groupby, column):\n",
    "    df_dropped = df[df[column].notna()].groupby(groupby)[column].apply(list)\n",
    "    x, y = df_dropped.apply(lambda x: stats.mode(x, keepdims=False)).apply([min, max])\n",
    "    mini, maxi = x[0], y[0]\n",
    "\n",
    "    col = df[column].apply(lambda x: np.NaN if ((x < mini) | (x > maxi) | (x < 0)) else x)\n",
    "    mode_by_group = df.groupby(groupby)[column].transform(lambda x: x.mode()[0] if not x.mode().empty else np.NaN)\n",
    "    df[column] = col.fillna(mode_by_group)\n",
    "    df[column].fillna(df[column].mean(), inplace=True)\n",
    "\n",
    "# Function to clean numerical fields\n",
    "def clean_numerical_field(df, groupby, column, strip=None, datatype=None, replace_value=None):\n",
    "    if replace_value is not None:\n",
    "        df[column] = df[column].replace(replace_value, np.nan)\n",
    "    if df[column].dtype == object and strip is not None:\n",
    "        df[column] = df[column].str.strip(strip)\n",
    "    if datatype is not None:\n",
    "        df[column] = df[column].astype(datatype)\n",
    "    fix_inconsistent_values(df, groupby, column)"
   ]
  },
  {
   "cell_type": "markdown",
   "metadata": {},
   "source": [
    "Load dataset"
   ]
  },
  {
   "cell_type": "code",
   "execution_count": null,
   "metadata": {},
   "outputs": [],
   "source": [
    "df_train = pd.read_csv('train.csv')"
   ]
  },
  {
   "cell_type": "markdown",
   "metadata": {},
   "source": [
    "Cleaning categorical fields"
   ]
  },
  {
   "cell_type": "code",
   "execution_count": null,
   "metadata": {},
   "outputs": [],
   "source": [
    "clean_categorical_field(df_train, 'Customer_ID', 'Name')\n",
    "clean_categorical_field(df_train, 'Customer_ID', 'SSN', '#F%$D@*&8')\n",
    "clean_categorical_field(df_train, 'Customer_ID', 'Occupation', '_______')\n",
    "clean_categorical_field(df_train, 'Customer_ID', 'Credit_Mix', '_')\n",
    "clean_categorical_field(df_train, 'Customer_ID', 'Payment_Behaviour', '!@9#%8')\n",
    "\n",
    "# Convert Month to datetime object\n",
    "df_train['Month'] = pd.to_datetime(df_train['Month'], format='%B').dt.month\n",
    "\n",
    "# Handle Type of Loan null values\n",
    "df_train['Type_of_Loan'].replace([np.NaN], 'Not Specified', inplace=True)"
   ]
  },
  {
   "cell_type": "markdown",
   "metadata": {},
   "source": [
    "Cleaning numerical fields"
   ]
  },
  {
   "cell_type": "code",
   "execution_count": null,
   "metadata": {},
   "outputs": [],
   "source": [
    "clean_numerical_field(df_train, 'Customer_ID', 'Age', strip='_', datatype='int')\n",
    "clean_numerical_field(df_train, 'Customer_ID', 'Annual_Income', strip='_', datatype='float')\n",
    "clean_numerical_field(df_train, 'Customer_ID', 'Monthly_Inhand_Salary')\n",
    "clean_numerical_field(df_train, 'Customer_ID', 'Num_Bank_Accounts')\n",
    "clean_numerical_field(df_train, 'Customer_ID', 'Num_Credit_Card')\n",
    "clean_numerical_field(df_train, 'Customer_ID', 'Interest_Rate')\n",
    "clean_numerical_field(df_train, 'Customer_ID', 'Delay_from_due_date')\n",
    "clean_numerical_field(df_train, 'Customer_ID', 'Num_of_Delayed_Payment', strip='_', datatype='float')\n",
    "clean_numerical_field(df_train, 'Customer_ID', 'Changed_Credit_Limit', strip='_', datatype='float', replace_value='_')\n",
    "clean_numerical_field(df_train, 'Customer_ID', 'Num_Credit_Inquiries')\n",
    "clean_numerical_field(df_train, 'Customer_ID', 'Outstanding_Debt', strip='_', datatype=float)\n",
    "clean_numerical_field(df_train, 'Customer_ID', 'Total_EMI_per_month')\n",
    "clean_numerical_field(df_train, 'Customer_ID', 'Amount_invested_monthly', strip='_', datatype=float)\n",
    "clean_numerical_field(df_train, 'Customer_ID', 'Monthly_Balance', strip='_', datatype=float, replace_value='__-333333333333333333333333333__')\n",
    "clean_numerical_field(df_train, 'Customer_ID', 'Num_of_Loan', strip='_', datatype=float)"
   ]
  },
  {
   "cell_type": "markdown",
   "metadata": {},
   "source": [
    "Convert Credit History Age to months"
   ]
  },
  {
   "cell_type": "code",
   "execution_count": null,
   "metadata": {},
   "outputs": [],
   "source": [
    "# Convert Credit History Age to months\n",
    "def Month_Converter(val):\n",
    "    if pd.notnull(val):\n",
    "        years = int(val.split(' ')[0])\n",
    "        month = int(val.split(' ')[3])\n",
    "        return (years * 12) + month\n",
    "    else:\n",
    "        return val\n",
    "\n",
    "df_train['Credit_History_Age'] = df_train['Credit_History_Age'].apply(lambda x: Month_Converter(x)).astype(float)\n",
    "clean_numerical_field(df_train, 'Customer_ID', 'Credit_History_Age', datatype=float)"
   ]
  },
  {
   "cell_type": "code",
   "execution_count": null,
   "metadata": {},
   "outputs": [
    {
     "name": "stdout",
     "output_type": "stream",
     "text": [
      "Month                       0\n",
      "Age                         0\n",
      "Occupation                  0\n",
      "Annual_Income               0\n",
      "Monthly_Inhand_Salary       0\n",
      "Num_Bank_Accounts           0\n",
      "Num_Credit_Card             0\n",
      "Interest_Rate               0\n",
      "Num_of_Loan                 0\n",
      "Type_of_Loan                0\n",
      "Delay_from_due_date         0\n",
      "Num_of_Delayed_Payment      0\n",
      "Changed_Credit_Limit        0\n",
      "Num_Credit_Inquiries        0\n",
      "Credit_Mix                  0\n",
      "Outstanding_Debt            0\n",
      "Credit_Utilization_Ratio    0\n",
      "Credit_History_Age          0\n",
      "Payment_of_Min_Amount       0\n",
      "Total_EMI_per_month         0\n",
      "Amount_invested_monthly     0\n",
      "Payment_Behaviour           0\n",
      "Monthly_Balance             0\n",
      "Credit_Score                0\n",
      "dtype: int64\n"
     ]
    }
   ],
   "source": [
    "# Check for null values\n",
    "print(df_train.isna().sum())"
   ]
  },
  {
   "cell_type": "code",
   "execution_count": null,
   "metadata": {},
   "outputs": [],
   "source": [
    "# Drop unnecessary columns\n",
    "df_train.drop(['ID', 'Customer_ID', 'Name', 'SSN'], axis=1, inplace=True)\n",
    "\n",
    "# Label Encoding for categorical columns\n",
    "categorical_columns = ['Occupation', 'Type_of_Loan', 'Credit_Mix', 'Payment_of_Min_Amount', 'Payment_Behaviour', 'Credit_Score']\n",
    "label_encoder = LabelEncoder()\n",
    "\n",
    "for column in categorical_columns:\n",
    "    df_train[column] = label_encoder.fit_transform(df_train[column])\n",
    "\n",
    "\n"
   ]
  },
  {
   "cell_type": "markdown",
   "metadata": {},
   "source": [
    "Normalize data"
   ]
  },
  {
   "cell_type": "code",
   "execution_count": null,
   "metadata": {},
   "outputs": [],
   "source": [
    "# Split input and output data\n",
    "X = df_train.drop('Credit_Score', axis=1)\n",
    "y = df_train['Credit_Score']\n",
    "\n",
    "# Normalize data\n",
    "scaler = MinMaxScaler()\n",
    "X = scaler.fit_transform(X)"
   ]
  },
  {
   "cell_type": "markdown",
   "metadata": {},
   "source": [
    "Combine X and y and save to a file"
   ]
  },
  {
   "cell_type": "code",
   "execution_count": null,
   "metadata": {},
   "outputs": [],
   "source": [
    "df_processed = pd.DataFrame(X, columns=df_train.drop('Credit_Score', axis=1).columns)\n",
    "df_processed['Credit_Score'] = y.values\n",
    "df_processed.to_csv('fico_preprocessed.csv', index=False)"
   ]
  }
 ],
 "metadata": {
  "kernelspec": {
   "display_name": "y_data",
   "language": "python",
   "name": "python3"
  },
  "language_info": {
   "codemirror_mode": {
    "name": "ipython",
    "version": 3
   },
   "file_extension": ".py",
   "mimetype": "text/x-python",
   "name": "python",
   "nbconvert_exporter": "python",
   "pygments_lexer": "ipython3",
   "version": "3.10.13"
  }
 },
 "nbformat": 4,
 "nbformat_minor": 2
}
