{
 "cells": [
  {
   "cell_type": "code",
   "execution_count": 3,
   "id": "9850382b",
   "metadata": {},
   "outputs": [],
   "source": [
    "import sys\n",
    "sys.path\n",
    "sys.path.append(\"../\")\n",
    "sys.path.append(\"../../\")"
   ]
  },
  {
   "cell_type": "markdown",
   "metadata": {},
   "source": [
    "# Usage of xai-comparison package\n",
    "\n",
    "This notebook demonstrates the setup and usage of the XAI Comparison package, using a `RandomForestClassifier` on the German credit dataset.\n",
    "\n",
    "## Steps\n",
    "\n",
    "1. Define the model\n",
    "2. Load the dataset\n",
    "3. Set the mode (classification/regression)\n",
    "4. Configure parameters\n",
    "5. Initialize the `ComparisonFactory`\n",
    "6. Create and apply comparisons"
   ]
  },
  {
   "cell_type": "code",
   "execution_count": 1,
   "metadata": {},
   "outputs": [],
   "source": [
    "# Step 1: Define the model\n",
    "from sklearn.ensemble import RandomForestClassifier\n",
    "\n",
    "model = RandomForestClassifier(max_depth=4, n_estimators=100, random_state=42)"
   ]
  },
  {
   "cell_type": "markdown",
   "metadata": {},
   "source": [
    "## Step 2: Load the dataset\n",
    "\n",
    "We will use the German credit dataset provided by the XAI Comparison package."
   ]
  },
  {
   "cell_type": "code",
   "execution_count": 4,
   "metadata": {},
   "outputs": [
    {
     "name": "stdout",
     "output_type": "stream",
     "text": [
      "Data loaded successfully!\n"
     ]
    }
   ],
   "source": [
    "from xai_compare.datasets import german_credit\n",
    "\n",
    "# Load the dataset\n",
    "X, y = german_credit()\n",
    "print(\"Data loaded successfully!\")"
   ]
  },
  {
   "cell_type": "markdown",
   "metadata": {},
   "source": [
    "## Step 3: Set the mode\n",
    "\n",
    "Specify the mode as either `MODE.CLASSIFICATION` or `MODE.REGRESSION`."
   ]
  },
  {
   "cell_type": "code",
   "execution_count": 5,
   "metadata": {},
   "outputs": [],
   "source": [
    "from xai_compare.config import MODE\n",
    "\n",
    "# Set the mode\n",
    "mode = MODE.CLASSIFICATION"
   ]
  },
  {
   "cell_type": "markdown",
   "metadata": {},
   "source": [
    "## Step 4: Configure parameters\n",
    "\n",
    "In this step, we define the parameters for the `ComparisonFactory`. These parameters include the model, dataset, target, and additional configurations for the explainers.\n",
    "\n",
    "Specifying Default Explainers\n",
    "By default, the XAI Comparison package supports several explainers, including SHAP, LIME, and Permutation Importance. You can specify which explainers to use by setting the `default_explainers` parameter. Here’s how you can do it:"
   ]
  },
  {
   "cell_type": "code",
   "execution_count": 11,
   "metadata": {},
   "outputs": [],
   "source": [
    "# Example of specifying default explainers\n",
    "params = {\n",
    "    'model': model,\n",
    "    'data': X,\n",
    "    'target': y,\n",
    "    'custom_explainer': None,  # We will not use a custom explainer in this example\n",
    "    'verbose': False,\n",
    "    'mode': mode,\n",
    "    'default_explainers': ['shap', 'lime', 'permutations']  # Specify the explainers to use\n",
    "}"
   ]
  },
  {
   "cell_type": "markdown",
   "id": "2678ea9f",
   "metadata": {},
   "source": [
    "This configuration will tell the `ComparisonFactory` to use SHAP, LIME, and Permutation Importance for the explainability comparisons."
   ]
  },
  {
   "cell_type": "markdown",
   "id": "e3c35548",
   "metadata": {},
   "source": [
    "### Creating and Using a Custom Explainer"
   ]
  },
  {
   "cell_type": "markdown",
   "id": "75e4866e",
   "metadata": {},
   "source": [
    "If you want to create and use a custom explainer, you need to define a class that inherits from the `Explainer` abstract base class. Below is an example of how to create a custom explainer.\n",
    "\n",
    "First, let’s create a custom explainer class that inherits from Explainer:\n",
    "\n"
   ]
  },
  {
   "cell_type": "code",
   "execution_count": 7,
   "id": "23dabb60",
   "metadata": {},
   "outputs": [],
   "source": [
    "import pandas as pd\n",
    "import numpy as np\n",
    "\n",
    "# Local application imports\n",
    "from xai_compare.explainer import Explainer\n",
    "from xai_compare.config import MODE\n",
    "\n",
    "\n",
    "class CustomExplainer(Explainer):\n",
    "    \"\"\"\n",
    "    A custom explainer that demonstrates how to implement a new explainer\n",
    "    inheriting from the abstract Explainer base class.\n",
    "    \"\"\"\n",
    "\n",
    "    def __init__(self, model, X_train, y_train, y_pred=None, mode=MODE.CLASSIFICATION):\n",
    "        super().__init__(model, X_train, y_train, y_pred, mode)\n",
    "\n",
    "    def explain_global(self, x_data: pd.DataFrame) -> pd.DataFrame:\n",
    "        \"\"\"\n",
    "        Generates a global explanation for the model predictions.\n",
    "        For demonstration, this custom explainer will return a DataFrame with random values.\n",
    "        \"\"\"\n",
    "        # Example implementation (replace with actual logic)\n",
    "        explanation = pd.DataFrame(np.random.rand(x_data.shape[0], x_data.shape[1]), columns=x_data.columns)\n",
    "        return explanation\n",
    "\n",
    "    def explain_local(self, x_data: pd.DataFrame) -> pd.DataFrame:\n",
    "        \"\"\"\n",
    "        Generates a local explanation for the model predictions for individual samples.\n",
    "        For demonstration, this custom explainer will return a DataFrame with random values.\n",
    "        \"\"\"\n",
    "        # Example implementation (replace with actual logic)\n",
    "        explanation = pd.DataFrame(np.random.rand(x_data.shape[0], x_data.shape[1]), columns=x_data.columns)\n",
    "        return explanation"
   ]
  },
  {
   "cell_type": "markdown",
   "id": "2baa27e7",
   "metadata": {},
   "source": [
    "### Using the Custom Explainer\n",
    "Now, you can use this custom explainer in the ComparisonFactory by passing an instance of it to the custom_explainer parameter:\n",
    "\n"
   ]
  },
  {
   "cell_type": "code",
   "execution_count": 8,
   "id": "72ecc7dc",
   "metadata": {},
   "outputs": [],
   "source": [
    "# Initialize the custom explainer\n",
    "custom_explainer = CustomExplainer(model=model, X_train=X, y_train=y)\n",
    "\n",
    "# Example of using a custom explainer\n",
    "params = {\n",
    "    'model': model,\n",
    "    'data': X,\n",
    "    'target': y,\n",
    "    'custom_explainer': [CustomExplainer],  # Pass the custom explainer\n",
    "    'verbose': False,\n",
    "    'mode': mode,\n",
    "    'default_explainers': []  # Optionally, specify other default explainers or leave empty\n",
    "}\n"
   ]
  },
  {
   "cell_type": "markdown",
   "metadata": {},
   "source": [
    "## Step 5: Initialize the `ComparisonFactory`\n",
    "\n",
    "The `ComparisonFactory` is responsible for creating comparison objects based on the given explainers and other parameters.\n",
    "This class simplifies the process of implementing different types of comparison methods by providing a common interface for specifying the required train and test datasets along with the model."
   ]
  },
  {
   "cell_type": "code",
   "execution_count": 12,
   "metadata": {},
   "outputs": [],
   "source": [
    "from xai_compare.factory import ComparisonFactory\n",
    "\n",
    "# Initialize the ComparisonFactory\n",
    "comparison_factory = ComparisonFactory(**params)"
   ]
  },
  {
   "cell_type": "markdown",
   "metadata": {},
   "source": [
    "## Step 6: Create and apply comparisons\n",
    "\n",
    "Loop through the comparison techniques and apply them to the model and data."
   ]
  },
  {
   "cell_type": "code",
   "execution_count": 13,
   "metadata": {},
   "outputs": [
    {
     "name": "stdout",
     "output_type": "stream",
     "text": [
      "Applying feature_selection...\n"
     ]
    },
    {
     "ename": "AttributeError",
     "evalue": "'FeatureElimination' object has no attribute 'target'",
     "output_type": "error",
     "traceback": [
      "\u001b[1;31m---------------------------------------------------------------------------\u001b[0m",
      "\u001b[1;31mAttributeError\u001b[0m                            Traceback (most recent call last)",
      "Cell \u001b[1;32mIn[13], line 5\u001b[0m\n\u001b[0;32m      3\u001b[0m \u001b[38;5;28;01mfor\u001b[39;00m technique \u001b[38;5;129;01min\u001b[39;00m COMPARISON_TECHNIQUES:\n\u001b[0;32m      4\u001b[0m     \u001b[38;5;28mprint\u001b[39m(\u001b[38;5;124mf\u001b[39m\u001b[38;5;124m\"\u001b[39m\u001b[38;5;124mApplying \u001b[39m\u001b[38;5;132;01m{\u001b[39;00mtechnique\u001b[38;5;132;01m}\u001b[39;00m\u001b[38;5;124m...\u001b[39m\u001b[38;5;124m\"\u001b[39m)\n\u001b[1;32m----> 5\u001b[0m     comparison \u001b[38;5;241m=\u001b[39m \u001b[43mcomparison_factory\u001b[49m\u001b[38;5;241;43m.\u001b[39;49m\u001b[43mcreate\u001b[49m\u001b[43m(\u001b[49m\u001b[43mtechnique\u001b[49m\u001b[43m)\u001b[49m\n\u001b[0;32m      6\u001b[0m     comparison\u001b[38;5;241m.\u001b[39mapply()\n\u001b[0;32m      7\u001b[0m     comparison\u001b[38;5;241m.\u001b[39mdisplay()\n",
      "File \u001b[1;32mc:\\Users\\dmitr\\Downloads\\Ydata\\Industry_project\\CitrusX\\xai-compare\\xai_compare\\comparison_tests\\../..\\xai_compare\\factory.py:172\u001b[0m, in \u001b[0;36mComparisonFactory.create\u001b[1;34m(self, comparison_type)\u001b[0m\n\u001b[0;32m    170\u001b[0m \u001b[38;5;28;01mfrom\u001b[39;00m \u001b[38;5;21;01mxai_compare\u001b[39;00m\u001b[38;5;21;01m.\u001b[39;00m\u001b[38;5;21;01mcomparison\u001b[39;00m \u001b[38;5;28;01mimport\u001b[39;00m FeatureElimination\n\u001b[0;32m    171\u001b[0m \u001b[38;5;28;01mif\u001b[39;00m \u001b[38;5;28mself\u001b[39m\u001b[38;5;241m.\u001b[39mmodel:\n\u001b[1;32m--> 172\u001b[0m     feature_selectionTchn \u001b[38;5;241m=\u001b[39m \u001b[43mFeatureElimination\u001b[49m\u001b[43m(\u001b[49m\u001b[43mmodel\u001b[49m\u001b[43m \u001b[49m\u001b[38;5;241;43m=\u001b[39;49m\u001b[43m \u001b[49m\u001b[38;5;28;43mself\u001b[39;49m\u001b[38;5;241;43m.\u001b[39;49m\u001b[43mmodel\u001b[49m\u001b[43m,\u001b[49m\n\u001b[0;32m    173\u001b[0m \u001b[43m                                             \u001b[49m\u001b[43mdata\u001b[49m\u001b[43m \u001b[49m\u001b[38;5;241;43m=\u001b[39;49m\u001b[43m \u001b[49m\u001b[38;5;28;43mself\u001b[39;49m\u001b[38;5;241;43m.\u001b[39;49m\u001b[43mdata\u001b[49m\u001b[43m,\u001b[49m\n\u001b[0;32m    174\u001b[0m \u001b[43m                                             \u001b[49m\u001b[43mtarget\u001b[49m\u001b[43m \u001b[49m\u001b[38;5;241;43m=\u001b[39;49m\u001b[43m \u001b[49m\u001b[38;5;28;43mself\u001b[39;49m\u001b[38;5;241;43m.\u001b[39;49m\u001b[43my\u001b[49m\u001b[43m,\u001b[49m\n\u001b[0;32m    175\u001b[0m \u001b[43m                                             \u001b[49m\u001b[43mcustom_explainer\u001b[49m\u001b[43m \u001b[49m\u001b[38;5;241;43m=\u001b[39;49m\u001b[43m \u001b[49m\u001b[38;5;28;43mself\u001b[39;49m\u001b[38;5;241;43m.\u001b[39;49m\u001b[43mcustom_explainer\u001b[49m\u001b[43m,\u001b[49m\n\u001b[0;32m    176\u001b[0m \u001b[43m                                             \u001b[49m\u001b[43mmode\u001b[49m\u001b[43m \u001b[49m\u001b[38;5;241;43m=\u001b[39;49m\u001b[43m \u001b[49m\u001b[38;5;28;43mself\u001b[39;49m\u001b[38;5;241;43m.\u001b[39;49m\u001b[43mmode\u001b[49m\u001b[43m,\u001b[49m\u001b[43m \u001b[49m\n\u001b[0;32m    177\u001b[0m \u001b[43m                                             \u001b[49m\u001b[43mrandom_state\u001b[49m\u001b[43m \u001b[49m\u001b[38;5;241;43m=\u001b[39;49m\u001b[43m \u001b[49m\u001b[38;5;28;43mself\u001b[39;49m\u001b[38;5;241;43m.\u001b[39;49m\u001b[43mrandom_state\u001b[49m\u001b[43m,\u001b[49m\u001b[43m \u001b[49m\n\u001b[0;32m    178\u001b[0m \u001b[43m                                             \u001b[49m\u001b[43mverbose\u001b[49m\u001b[38;5;241;43m=\u001b[39;49m\u001b[38;5;28;43mself\u001b[39;49m\u001b[38;5;241;43m.\u001b[39;49m\u001b[43mverbose\u001b[49m\u001b[43m,\u001b[49m\n\u001b[0;32m    179\u001b[0m \u001b[43m                                             \u001b[49m\u001b[43mthreshold\u001b[49m\u001b[38;5;241;43m=\u001b[39;49m\u001b[38;5;28;43mself\u001b[39;49m\u001b[38;5;241;43m.\u001b[39;49m\u001b[43mthreshold\u001b[49m\u001b[43m,\u001b[49m\n\u001b[0;32m    180\u001b[0m \u001b[43m                                             \u001b[49m\u001b[43mmetric\u001b[49m\u001b[38;5;241;43m=\u001b[39;49m\u001b[38;5;28;43mself\u001b[39;49m\u001b[38;5;241;43m.\u001b[39;49m\u001b[43mmetric\u001b[49m\u001b[43m,\u001b[49m\n\u001b[0;32m    181\u001b[0m \u001b[43m                                             \u001b[49m\u001b[43mdefault_explainers\u001b[49m\u001b[43m \u001b[49m\u001b[38;5;241;43m=\u001b[39;49m\u001b[43m \u001b[49m\u001b[38;5;28;43mself\u001b[39;49m\u001b[38;5;241;43m.\u001b[39;49m\u001b[43mdefault_explainers\u001b[49m\u001b[43m)\u001b[49m\n\u001b[0;32m    182\u001b[0m \u001b[38;5;28;01melse\u001b[39;00m:\n\u001b[0;32m    183\u001b[0m     feature_selectionTchn \u001b[38;5;241m=\u001b[39m FeatureElimination\n",
      "File \u001b[1;32mc:\\Users\\dmitr\\Downloads\\Ydata\\Industry_project\\CitrusX\\xai-compare\\xai_compare\\comparison_tests\\../..\\xai_compare\\comparison.py:252\u001b[0m, in \u001b[0;36mFeatureElimination.__init__\u001b[1;34m(self, model, data, target, custom_explainer, mode, random_state, verbose, threshold, metric, default_explainers)\u001b[0m\n\u001b[0;32m    250\u001b[0m \u001b[38;5;28mself\u001b[39m\u001b[38;5;241m.\u001b[39mdf_expl_results \u001b[38;5;241m=\u001b[39m \u001b[38;5;28;01mNone\u001b[39;00m\n\u001b[0;32m    251\u001b[0m \u001b[38;5;28mself\u001b[39m\u001b[38;5;241m.\u001b[39mresults_dict_upd \u001b[38;5;241m=\u001b[39m \u001b[38;5;28;01mNone\u001b[39;00m\n\u001b[1;32m--> 252\u001b[0m \u001b[38;5;28mself\u001b[39m\u001b[38;5;241m.\u001b[39mX_train, \u001b[38;5;28mself\u001b[39m\u001b[38;5;241m.\u001b[39my_train, \u001b[38;5;28mself\u001b[39m\u001b[38;5;241m.\u001b[39mX_val, \u001b[38;5;28mself\u001b[39m\u001b[38;5;241m.\u001b[39my_val, \u001b[38;5;28mself\u001b[39m\u001b[38;5;241m.\u001b[39mX_test, \u001b[38;5;28mself\u001b[39m\u001b[38;5;241m.\u001b[39my_test \u001b[38;5;241m=\u001b[39m \u001b[38;5;28;43mself\u001b[39;49m\u001b[38;5;241;43m.\u001b[39;49m\u001b[43mtrain_test_val\u001b[49m\u001b[43m(\u001b[49m\u001b[43m)\u001b[49m\n\u001b[0;32m    254\u001b[0m \u001b[38;5;28;01mif\u001b[39;00m metric \u001b[38;5;129;01mis\u001b[39;00m \u001b[38;5;28;01mNone\u001b[39;00m:\n\u001b[0;32m    255\u001b[0m     \u001b[38;5;28;01mif\u001b[39;00m \u001b[38;5;28mself\u001b[39m\u001b[38;5;241m.\u001b[39mmode \u001b[38;5;241m==\u001b[39m MODE\u001b[38;5;241m.\u001b[39mCLASSIFICATION:\n",
      "File \u001b[1;32mc:\\Users\\dmitr\\Downloads\\Ydata\\Industry_project\\CitrusX\\xai-compare\\xai_compare\\comparison_tests\\../..\\xai_compare\\comparison.py:269\u001b[0m, in \u001b[0;36mFeatureElimination.train_test_val\u001b[1;34m(self)\u001b[0m\n\u001b[0;32m    265\u001b[0m \u001b[38;5;28;01mdef\u001b[39;00m \u001b[38;5;21mtrain_test_val\u001b[39m(\u001b[38;5;28mself\u001b[39m):\n\u001b[0;32m    266\u001b[0m \u001b[38;5;250m    \u001b[39m\u001b[38;5;124;03m\"\"\"\u001b[39;00m\n\u001b[0;32m    267\u001b[0m \u001b[38;5;124;03m    Splits the data into training, validation, and testing sets.\u001b[39;00m\n\u001b[0;32m    268\u001b[0m \u001b[38;5;124;03m    \"\"\"\u001b[39;00m\n\u001b[1;32m--> 269\u001b[0m     X_train, X_tmp, y_train, y_tmp \u001b[38;5;241m=\u001b[39m train_test_split(\u001b[38;5;28mself\u001b[39m\u001b[38;5;241m.\u001b[39mdata, \u001b[38;5;28;43mself\u001b[39;49m\u001b[38;5;241;43m.\u001b[39;49m\u001b[43mtarget\u001b[49m, test_size\u001b[38;5;241m=\u001b[39m\u001b[38;5;241m0.5\u001b[39m, random_state\u001b[38;5;241m=\u001b[39m\u001b[38;5;28mself\u001b[39m\u001b[38;5;241m.\u001b[39mrandom_state)  \n\u001b[0;32m    270\u001b[0m     X_val, X_test, y_val, y_test \u001b[38;5;241m=\u001b[39m train_test_split(X_tmp, y_tmp, test_size\u001b[38;5;241m=\u001b[39m\u001b[38;5;241m0.4\u001b[39m, random_state\u001b[38;5;241m=\u001b[39m\u001b[38;5;28mself\u001b[39m\u001b[38;5;241m.\u001b[39mrandom_state)  \n\u001b[0;32m    271\u001b[0m     \u001b[38;5;28;01mreturn\u001b[39;00m X_train, y_train, X_val, y_val, X_test, y_test\n",
      "\u001b[1;31mAttributeError\u001b[0m: 'FeatureElimination' object has no attribute 'target'"
     ]
    }
   ],
   "source": [
    "from xai_compare.config import COMPARISON_TECHNIQUES\n",
    "\n",
    "for technique in COMPARISON_TECHNIQUES:\n",
    "    print(f\"Applying {technique}...\")\n",
    "    comparison = comparison_factory.create(technique)\n",
    "    comparison.apply()\n",
    "    comparison.display()"
   ]
  },
  {
   "cell_type": "markdown",
   "metadata": {},
   "source": [
    "## Conclusion\n",
    "\n",
    "This notebook has demonstrated how to use the XAI Comparison package to compare different explainability techniques on a RandomForestClassifier model using the German credit dataset. By following these steps, you can apply the package to your own models and datasets to gain insights into feature importance and model behavior."
   ]
  }
 ],
 "metadata": {
  "kernelspec": {
   "display_name": "Python 3",
   "language": "python",
   "name": "python3"
  },
  "language_info": {
   "codemirror_mode": {
    "name": "ipython",
    "version": 3
   },
   "file_extension": ".py",
   "mimetype": "text/x-python",
   "name": "python",
   "nbconvert_exporter": "python",
   "pygments_lexer": "ipython3",
   "version": "3.10.13"
  }
 },
 "nbformat": 4,
 "nbformat_minor": 5
}
